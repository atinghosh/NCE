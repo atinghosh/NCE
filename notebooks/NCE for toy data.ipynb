{
 "cells": [
  {
   "cell_type": "code",
   "execution_count": 322,
   "metadata": {},
   "outputs": [],
   "source": [
    "import jax.numpy as np\n",
    "import numpy as onp\n",
    "from jax.scipy.stats import norm\n",
    "import jax\n",
    "from jax import random\n",
    "import matplotlib.pyplot as plt\n",
    "\n",
    "\n",
    "mu, sigma = 6, 3\n",
    "noise_mu, noise_sigma = 6.2, 2.8\n",
    "no_of_sample = 10000"
   ]
  },
  {
   "cell_type": "code",
   "execution_count": 323,
   "metadata": {},
   "outputs": [],
   "source": [
    "inputs = onp.random.normal(mu, sigma, no_of_sample)\n",
    "noise = onp.random.normal(noise_mu, noise_sigma, no_of_sample)"
   ]
  },
  {
   "cell_type": "markdown",
   "metadata": {},
   "source": [
    "The loss is given by\n",
    "$$loss(\\theta)=-\\frac{1}{2 T} \\sum_{t} \\ln \\left[h\\left(\\mathbf{x}_{t} ; \\theta\\right)\\right]+\\ln \\left[1-h\\left(\\mathbf{y}_{t} ; \\theta\\right)\\right]$$\n",
    "where, $T=10000$ and\n",
    "$$\n",
    "\\begin{aligned}\n",
    "h(\\mathbf{u} ; \\theta) &=\\frac{1}{1+\\exp [-G(\\mathbf{u} ; \\theta)]} \\\\\n",
    "G(\\mathbf{u} ; \\theta) &=\\ln p_{m}(\\mathbf{u} ; \\theta)-\\ln p_{n}(\\mathbf{u})\n",
    "\\end{aligned}\n",
    "$$\n",
    "\n",
    "In our case, $$\\ln p_m(x; \\theta) = \\ln c  -\\frac{(x-\\mu^2)}{2 \\sigma^2}$$ and $\\theta = (\\ln c, \\mu, \\ln \\sigma)$\n",
    "\n",
    "And $$\\ln p_n(u) = \\ln \\mathcal{N}(u; 0, 30^2)$$"
   ]
  },
  {
   "cell_type": "code",
   "execution_count": 324,
   "metadata": {},
   "outputs": [],
   "source": [
    "def logistic_fn(x):\n",
    "    return 1/(1+np.exp(-x))\n",
    "\n",
    "def log_unlormalized_pdf(x, mu_param, log_sigma_param, log_c_param):\n",
    "    sigma = np.exp(log_sigma_param)\n",
    "    return log_c_param - (x-mu_param)**2/(2*sigma**2)\n",
    "#     return - (x-mu_param)**2/(2*sigma**2)\n",
    "\n",
    "def obj_fun(mu_param, log_sigma_param, log_c_param):\n",
    "    global inputs\n",
    "    G_input = log_unlormalized_pdf(inputs, mu_param, log_sigma_param, log_c_param) - np.log(norm.pdf(inputs, noise_mu, noise_sigma))\n",
    "    G_noise = log_unlormalized_pdf(noise, mu_param, log_sigma_param, log_c_param) - np.log(norm.pdf(noise, noise_mu, noise_sigma))\n",
    "    h_input = logistic_fn(G_input)\n",
    "    h_noise = logistic_fn(G_noise)\n",
    "    \n",
    "    loss = np.log(h_input) + np.log(1-h_noise)\n",
    "    return -.5 * (1/no_of_sample)  * np.sum(loss)\n",
    "    \n",
    "loss_grad = jax.grad(obj_fun, argnums=(0,1,2))"
   ]
  },
  {
   "cell_type": "code",
   "execution_count": 325,
   "metadata": {},
   "outputs": [
    {
     "data": {
      "text/plain": [
       "(DeviceArray(0.00443899, dtype=float32),\n",
       " DeviceArray(0.03510869, dtype=float32),\n",
       " DeviceArray(0.2864608, dtype=float32))"
      ]
     },
     "execution_count": 325,
     "metadata": {},
     "output_type": "execute_result"
    }
   ],
   "source": [
    "# Initialize parameters\n",
    "mu_init, log_sigma_init, log_c_init = 0.0, 3.0, -1.0\n",
    "obj_fun(mu_init, log_sigma_init, log_c_init)\n",
    "loss_grad(mu_init, log_sigma_init, log_c_init)"
   ]
  },
  {
   "cell_type": "code",
   "execution_count": 326,
   "metadata": {},
   "outputs": [
    {
     "name": "stdout",
     "output_type": "stream",
     "text": [
      "Epoch is 0.......\n",
      "LOSS\n",
      "0.9408619\n",
      "Epoch is 50.......\n",
      "LOSS\n",
      "0.7532815\n",
      "Epoch is 100.......\n",
      "LOSS\n",
      "0.7325451\n",
      "Epoch is 150.......\n",
      "LOSS\n",
      "0.7304781\n",
      "Epoch is 200.......\n",
      "LOSS\n",
      "0.7301433\n",
      "Epoch is 250.......\n",
      "LOSS\n",
      "0.72995836\n",
      "Epoch is 300.......\n",
      "LOSS\n",
      "0.72977835\n",
      "Epoch is 350.......\n",
      "LOSS\n",
      "0.7295904\n",
      "Epoch is 400.......\n",
      "LOSS\n",
      "0.7293936\n",
      "Epoch is 450.......\n",
      "LOSS\n",
      "0.72918904\n",
      "Epoch is 500.......\n",
      "LOSS\n",
      "0.7289781\n",
      "Epoch is 550.......\n",
      "LOSS\n",
      "0.72876316\n",
      "Epoch is 600.......\n",
      "LOSS\n",
      "0.7285469\n",
      "Epoch is 650.......\n",
      "LOSS\n",
      "0.7283328\n",
      "Epoch is 700.......\n",
      "LOSS\n",
      "0.7281242\n",
      "Epoch is 750.......\n",
      "LOSS\n",
      "0.7279253\n",
      "Epoch is 800.......\n",
      "LOSS\n",
      "0.72773945\n",
      "Epoch is 850.......\n",
      "LOSS\n",
      "0.72757\n",
      "Epoch is 900.......\n",
      "LOSS\n",
      "0.7274187\n",
      "Epoch is 950.......\n",
      "LOSS\n",
      "0.72728693\n",
      "Epoch is 1000.......\n",
      "LOSS\n",
      "0.7271745\n",
      "Epoch is 1050.......\n",
      "LOSS\n",
      "0.7270805\n",
      "Epoch is 1100.......\n",
      "LOSS\n",
      "0.7270031\n",
      "Epoch is 1150.......\n",
      "LOSS\n",
      "0.7269402\n",
      "Epoch is 1200.......\n",
      "LOSS\n",
      "0.72688943\n",
      "Epoch is 1250.......\n",
      "LOSS\n",
      "0.72684866\n",
      "Epoch is 1300.......\n",
      "LOSS\n",
      "0.7268157\n",
      "Epoch is 1350.......\n",
      "LOSS\n",
      "0.72678876\n",
      "Epoch is 1400.......\n",
      "LOSS\n",
      "0.7267665\n",
      "Epoch is 1450.......\n",
      "LOSS\n",
      "0.72674775\n",
      "Epoch is 1500.......\n",
      "LOSS\n",
      "0.7267314\n",
      "Epoch is 1550.......\n",
      "LOSS\n",
      "0.72671694\n",
      "Epoch is 1600.......\n",
      "LOSS\n",
      "0.72670376\n",
      "Epoch is 1650.......\n",
      "LOSS\n",
      "0.72669154\n",
      "Epoch is 1700.......\n",
      "LOSS\n",
      "0.7266799\n",
      "Epoch is 1750.......\n",
      "LOSS\n",
      "0.72666866\n",
      "Epoch is 1800.......\n",
      "LOSS\n",
      "0.72665787\n",
      "Epoch is 1850.......\n",
      "LOSS\n",
      "0.7266471\n",
      "Epoch is 1900.......\n",
      "LOSS\n",
      "0.7266365\n",
      "Epoch is 1950.......\n",
      "LOSS\n",
      "0.726626\n",
      "Epoch is 2000.......\n",
      "LOSS\n",
      "0.7266155\n",
      "Epoch is 2050.......\n",
      "LOSS\n",
      "0.726605\n",
      "Epoch is 2100.......\n",
      "LOSS\n",
      "0.72659445\n",
      "Epoch is 2150.......\n",
      "LOSS\n",
      "0.7265839\n",
      "Epoch is 2200.......\n",
      "LOSS\n",
      "0.72657335\n",
      "Epoch is 2250.......\n",
      "LOSS\n",
      "0.7265627\n",
      "Epoch is 2300.......\n",
      "LOSS\n",
      "0.72655195\n",
      "Epoch is 2350.......\n",
      "LOSS\n",
      "0.7265412\n",
      "Epoch is 2400.......\n",
      "LOSS\n",
      "0.7265305\n",
      "Epoch is 2450.......\n",
      "LOSS\n",
      "0.7265196\n",
      "Epoch is 2500.......\n",
      "LOSS\n",
      "0.72650874\n",
      "Epoch is 2550.......\n",
      "LOSS\n",
      "0.7264977\n",
      "Epoch is 2600.......\n",
      "LOSS\n",
      "0.7264867\n",
      "Epoch is 2650.......\n",
      "LOSS\n",
      "0.7264756\n",
      "Epoch is 2700.......\n",
      "LOSS\n",
      "0.72646445\n",
      "Epoch is 2750.......\n",
      "LOSS\n",
      "0.7264532\n",
      "Epoch is 2800.......\n",
      "LOSS\n",
      "0.7264419\n",
      "Epoch is 2850.......\n",
      "LOSS\n",
      "0.72643054\n",
      "Epoch is 2900.......\n",
      "LOSS\n",
      "0.7264191\n",
      "Epoch is 2950.......\n",
      "LOSS\n",
      "0.7264076\n",
      "Epoch is 3000.......\n",
      "LOSS\n",
      "0.7263961\n",
      "Epoch is 3050.......\n",
      "LOSS\n",
      "0.7263845\n",
      "Epoch is 3100.......\n",
      "LOSS\n",
      "0.72637284\n",
      "Epoch is 3150.......\n",
      "LOSS\n",
      "0.72636104\n",
      "Epoch is 3200.......\n",
      "LOSS\n",
      "0.7263493\n",
      "Epoch is 3250.......\n",
      "LOSS\n",
      "0.7263373\n",
      "Epoch is 3300.......\n",
      "LOSS\n",
      "0.7263254\n",
      "Epoch is 3350.......\n",
      "LOSS\n",
      "0.7263133\n",
      "Epoch is 3400.......\n",
      "LOSS\n",
      "0.72630113\n",
      "Epoch is 3450.......\n",
      "LOSS\n",
      "0.726289\n",
      "Epoch is 3500.......\n",
      "LOSS\n",
      "0.7262768\n",
      "Epoch is 3550.......\n",
      "LOSS\n",
      "0.72626436\n",
      "Epoch is 3600.......\n",
      "LOSS\n",
      "0.726252\n",
      "Epoch is 3650.......\n",
      "LOSS\n",
      "0.7262396\n",
      "Epoch is 3700.......\n",
      "LOSS\n",
      "0.726227\n",
      "Epoch is 3750.......\n",
      "LOSS\n",
      "0.7262144\n",
      "Epoch is 3800.......\n",
      "LOSS\n",
      "0.72620153\n",
      "Epoch is 3850.......\n",
      "LOSS\n",
      "0.7261888\n",
      "Epoch is 3900.......\n",
      "LOSS\n",
      "0.72617596\n",
      "Epoch is 3950.......\n",
      "LOSS\n",
      "0.726163\n",
      "Epoch is 4000.......\n",
      "LOSS\n",
      "0.72615\n",
      "Epoch is 4050.......\n",
      "LOSS\n",
      "0.72613686\n",
      "Epoch is 4100.......\n",
      "LOSS\n",
      "0.72612363\n",
      "Epoch is 4150.......\n",
      "LOSS\n",
      "0.72611034\n",
      "Epoch is 4200.......\n",
      "LOSS\n",
      "0.7260969\n",
      "Epoch is 4250.......\n",
      "LOSS\n",
      "0.72608346\n",
      "Epoch is 4300.......\n",
      "LOSS\n",
      "0.7260699\n",
      "Epoch is 4350.......\n",
      "LOSS\n",
      "0.72605634\n",
      "Epoch is 4400.......\n",
      "LOSS\n",
      "0.72604257\n",
      "Epoch is 4450.......\n",
      "LOSS\n",
      "0.72602874\n",
      "Epoch is 4500.......\n",
      "LOSS\n",
      "0.726015\n",
      "Epoch is 4550.......\n",
      "LOSS\n",
      "0.72600085\n",
      "Epoch is 4600.......\n",
      "LOSS\n",
      "0.72598684\n",
      "Epoch is 4650.......\n",
      "LOSS\n",
      "0.72597253\n",
      "Epoch is 4700.......\n",
      "LOSS\n",
      "0.7259584\n",
      "Epoch is 4750.......\n",
      "LOSS\n",
      "0.725944\n",
      "Epoch is 4800.......\n",
      "LOSS\n",
      "0.72592956\n",
      "Epoch is 4850.......\n",
      "LOSS\n",
      "0.7259149\n",
      "Epoch is 4900.......\n",
      "LOSS\n",
      "0.7259003\n",
      "Epoch is 4950.......\n",
      "LOSS\n",
      "0.7258855\n"
     ]
    }
   ],
   "source": [
    "params = mu_init, log_sigma_init, log_c_init\n",
    "lr = .1\n",
    "list_of_param_WRONG = []\n",
    "list_loss = []\n",
    "for ep in range(5000):\n",
    "    loss = obj_fun(*params)\n",
    "    grads = loss_grad(*params)\n",
    "    list_of_param_WRONG.append(params)\n",
    "    list_loss.append(onp.asarray(loss))\n",
    "    params = [param - lr * grad for param, grad in zip(params, grads)]\n",
    "    \n",
    "    if ep % 50 ==0:\n",
    "        print(f'Epoch is {ep}.......')\n",
    "        print('LOSS')\n",
    "        print(loss)   "
   ]
  },
  {
   "cell_type": "code",
   "execution_count": 327,
   "metadata": {},
   "outputs": [
    {
     "data": {
      "text/plain": [
       "[DeviceArray(0.591562, dtype=float32),\n",
       " DeviceArray(2.051308, dtype=float32),\n",
       " DeviceArray(-2.1208768, dtype=float32)]"
      ]
     },
     "execution_count": 327,
     "metadata": {},
     "output_type": "execute_result"
    }
   ],
   "source": [
    "params"
   ]
  },
  {
   "cell_type": "code",
   "execution_count": null,
   "metadata": {},
   "outputs": [],
   "source": [
    "np.exp()"
   ]
  },
  {
   "cell_type": "code",
   "execution_count": 289,
   "metadata": {},
   "outputs": [
    {
     "data": {
      "text/plain": [
       "[DeviceArray(5.9839797, dtype=float32),\n",
       " DeviceArray(1.1075463, dtype=float32),\n",
       " DeviceArray(-2.0294132, dtype=float32)]"
      ]
     },
     "execution_count": 289,
     "metadata": {},
     "output_type": "execute_result"
    }
   ],
   "source": [
    "params"
   ]
  },
  {
   "cell_type": "code",
   "execution_count": 285,
   "metadata": {},
   "outputs": [
    {
     "data": {
      "text/plain": [
       "DeviceArray(3.0269222, dtype=float32)"
      ]
     },
     "execution_count": 285,
     "metadata": {},
     "output_type": "execute_result"
    }
   ],
   "source": [
    "np.exp(1.1075463)"
   ]
  },
  {
   "cell_type": "code",
   "execution_count": 295,
   "metadata": {},
   "outputs": [
    {
     "data": {
      "text/plain": [
       "array(-2.017551, dtype=float32)"
      ]
     },
     "execution_count": 295,
     "metadata": {},
     "output_type": "execute_result"
    }
   ],
   "source": [
    "onp.asarray(np.log(1/(np.sqrt(2*np.pi)*sigma)))"
   ]
  },
  {
   "cell_type": "code",
   "execution_count": 310,
   "metadata": {},
   "outputs": [
    {
     "data": {
      "text/plain": [
       "[DeviceArray(0.00035759, dtype=float32),\n",
       " DeviceArray(2.2085419, dtype=float32),\n",
       " DeviceArray(-1.3417336, dtype=float32)]"
      ]
     },
     "execution_count": 310,
     "metadata": {},
     "output_type": "execute_result"
    }
   ],
   "source": [
    "list_of_param[10]"
   ]
  },
  {
   "cell_type": "code",
   "execution_count": 303,
   "metadata": {},
   "outputs": [
    {
     "data": {
      "text/plain": [
       "DeviceArray(1.1075463, dtype=float32)"
      ]
     },
     "execution_count": 303,
     "metadata": {},
     "output_type": "execute_result"
    }
   ],
   "source": [
    "pr"
   ]
  },
  {
   "cell_type": "code",
   "execution_count": 313,
   "metadata": {},
   "outputs": [],
   "source": [
    "true_mu, true_sigma, true_norm_const = mu, sigma, 1/(onp.sqrt(2*onp.pi)*sigma)\n",
    "loss_mu = []\n",
    "loss_sigma = []\n",
    "loss_norm_const = []\n",
    "for i in range(len(list_of_param)):\n",
    "    if i == 0:\n",
    "        next\n",
    "    else:\n",
    "        pr = list_of_param[i]\n",
    "        loss_mu.append((onp.asarray(pr[0])-true_mu)**2)\n",
    "        loss_sigma.append((onp.asarray(np.exp(pr[1]))-true_sigma)**2)\n",
    "        loss_norm_const.append((onp.asarray(np.exp(pr[2]))-true_norm_const)**2)\n",
    "        "
   ]
  },
  {
   "cell_type": "code",
   "execution_count": 315,
   "metadata": {},
   "outputs": [
    {
     "data": {
      "image/png": "[encoded data removed]",
      "text/plain": [
       "<matplotlib.figure.Figure at 0x7fdb902fe470>"
      ]
     },
     "metadata": {},
     "output_type": "display_data"
    }
   ],
   "source": [
    "plt.plot(loss_mu)\n",
    "plt.show()"
   ]
  },
  {
   "cell_type": "code",
   "execution_count": 314,
   "metadata": {},
   "outputs": [
    {
     "data": {
      "image/png": "[encoded data removed]",
      "text/plain": [
       "<matplotlib.figure.Figure at 0x7fdb90513dd8>"
      ]
     },
     "metadata": {},
     "output_type": "display_data"
    }
   ],
   "source": [
    "# plt.plot(loss_mu)\n",
    "plt.plot(loss_norm_const)\n",
    "plt.show()"
   ]
  },
  {
   "cell_type": "code",
   "execution_count": 291,
   "metadata": {},
   "outputs": [
    {
     "data": {
      "text/plain": [
       "[DeviceArray(-1.3313384e-05, dtype=float32),\n",
       " DeviceArray(2.9131956, dtype=float32),\n",
       " DeviceArray(-1.0438528, dtype=float32)]"
      ]
     },
     "execution_count": 291,
     "metadata": {},
     "output_type": "execute_result"
    }
   ],
   "source": [
    "list_of_param[]"
   ]
  },
  {
   "cell_type": "code",
   "execution_count": null,
   "metadata": {},
   "outputs": [],
   "source": []
  }
 ],
 "metadata": {
  "kernelspec": {
   "display_name": "Python (idp)",
   "language": "python",
   "name": "idp"
  },
  "language_info": {
   "codemirror_mode": {
    "name": "ipython",
    "version": 3
   },
   "file_extension": ".py",
   "mimetype": "text/x-python",
   "name": "python",
   "nbconvert_exporter": "python",
   "pygments_lexer": "ipython3",
   "version": "3.6.9"
  }
 },
 "nbformat": 4,
 "nbformat_minor": 2
}
