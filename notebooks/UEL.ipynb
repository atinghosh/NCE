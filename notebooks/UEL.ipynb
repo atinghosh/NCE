{
 "cells": [
  {
   "source": [
    "#Most of the code is copied from https://github.com/mangye16/Unsupervised_Embedding_Learning\n",
    "\n",
    "from __future__ import print_function\n",
    "\n",
    "import sys\n",
    "import torch.optim as optim\n",
    "import torch.backends.cudnn as cudnn\n",
    "\n",
    "import torchvision\n",
    "import torchvision.transforms as transforms\n",
    "\n",
    "import os\n",
    "import argparse\n",
    "import time\n",
    "import numpy as np\n",
    "import models\n",
    "import datasets\n",
    "import math\n",
    "from easydict import EasyDict as edict\n",
    "\n",
    "from BatchAverage import BatchCriterion\n",
    "from utils import *\n",
    "from tensorboardX import SummaryWriter\n"
   ],
   "cell_type": "code",
   "outputs": [
    {
     "output_type": "error",
     "ename": "ModuleNotFoundError",
     "evalue": "No module named 'models'",
     "traceback": [
      "\u001b[0;31m---------------------------------------------------------------------------\u001b[0m",
      "\u001b[0;31mModuleNotFoundError\u001b[0m                       Traceback (most recent call last)",
      "\u001b[0;32m<ipython-input-1-3ad944e32fed>\u001b[0m in \u001b[0;36m<module>\u001b[0;34m()\u001b[0m\n\u001b[1;32m     14\u001b[0m \u001b[0;32mimport\u001b[0m \u001b[0mtime\u001b[0m\u001b[0;34m\u001b[0m\u001b[0;34m\u001b[0m\u001b[0m\n\u001b[1;32m     15\u001b[0m \u001b[0;32mimport\u001b[0m \u001b[0mnumpy\u001b[0m \u001b[0;32mas\u001b[0m \u001b[0mnp\u001b[0m\u001b[0;34m\u001b[0m\u001b[0;34m\u001b[0m\u001b[0m\n\u001b[0;32m---> 16\u001b[0;31m \u001b[0;32mimport\u001b[0m \u001b[0mmodels\u001b[0m\u001b[0;34m\u001b[0m\u001b[0;34m\u001b[0m\u001b[0m\n\u001b[0m\u001b[1;32m     17\u001b[0m \u001b[0;32mimport\u001b[0m \u001b[0mdatasets\u001b[0m\u001b[0;34m\u001b[0m\u001b[0;34m\u001b[0m\u001b[0m\n\u001b[1;32m     18\u001b[0m \u001b[0;32mimport\u001b[0m \u001b[0mmath\u001b[0m\u001b[0;34m\u001b[0m\u001b[0;34m\u001b[0m\u001b[0m\n",
      "\u001b[0;31mModuleNotFoundError\u001b[0m: No module named 'models'"
     ]
    }
   ],
   "metadata": {},
   "execution_count": 1
  },
  {
   "source": [
    "# Taken from original code\n",
    "\n",
    "# batch-t: softmax temperature parameter (0.05-0.1)\n",
    "# low-dim: the feature embedding dimension (default: 128)\n",
    "\n",
    "args = edict({'dataset':'cifar', 'lr': .03, 'resume': '', 'log_dir': 'log/', 'model_dir': 'checkpoint/',\n",
    "              'test_epoch': 1, 'low_dim': 128, 'batch_t': .1, 'batch_m': 1, 'batch_size': 128, 'gpu': '2, 3'\n",
    "             }) \n",
    "os.environ['CUDA_VISIBLE_DEVICES'] = args.gpu\n",
    "device = 'cuda:' if torch.cuda.is_available() else 'cpu'\n",
    "\n",
    "\n",
    "# device = 'cuda:'+args.gpu[0] if torch.cuda.is_available() else 'cpu'"
   ],
   "cell_type": "code",
   "outputs": [
    {
     "output_type": "error",
     "ename": "NameError",
     "evalue": "name 'edict' is not defined",
     "traceback": [
      "\u001b[0;31m---------------------------------------------------------------------------\u001b[0m",
      "\u001b[0;31mNameError\u001b[0m                                 Traceback (most recent call last)",
      "\u001b[0;32m<ipython-input-3-b83c6743b5f4>\u001b[0m in \u001b[0;36m<module>\u001b[0;34m()\u001b[0m\n\u001b[1;32m      4\u001b[0m \u001b[0;31m# low-dim: the feature embedding dimension (default: 128)\u001b[0m\u001b[0;34m\u001b[0m\u001b[0;34m\u001b[0m\u001b[0;34m\u001b[0m\u001b[0m\n\u001b[1;32m      5\u001b[0m \u001b[0;34m\u001b[0m\u001b[0m\n\u001b[0;32m----> 6\u001b[0;31m args = edict({'dataset':'cifar', 'lr': .03, 'resume': '', 'log_dir': 'log/', 'model_dir': 'checkpoint/',\n\u001b[0m\u001b[1;32m      7\u001b[0m               \u001b[0;34m'test_epoch'\u001b[0m\u001b[0;34m:\u001b[0m \u001b[0;36m1\u001b[0m\u001b[0;34m,\u001b[0m \u001b[0;34m'low_dim'\u001b[0m\u001b[0;34m:\u001b[0m \u001b[0;36m128\u001b[0m\u001b[0;34m,\u001b[0m \u001b[0;34m'batch_t'\u001b[0m\u001b[0;34m:\u001b[0m \u001b[0;36m.1\u001b[0m\u001b[0;34m,\u001b[0m \u001b[0;34m'batch_m'\u001b[0m\u001b[0;34m:\u001b[0m \u001b[0;36m1\u001b[0m\u001b[0;34m,\u001b[0m \u001b[0;34m'batch_size'\u001b[0m\u001b[0;34m:\u001b[0m \u001b[0;36m128\u001b[0m\u001b[0;34m,\u001b[0m \u001b[0;34m'gpu'\u001b[0m\u001b[0;34m:\u001b[0m \u001b[0;34m'2, 3'\u001b[0m\u001b[0;34m\u001b[0m\u001b[0;34m\u001b[0m\u001b[0m\n\u001b[1;32m      8\u001b[0m              }) \n",
      "\u001b[0;31mNameError\u001b[0m: name 'edict' is not defined"
     ]
    }
   ],
   "metadata": {},
   "execution_count": 3
  },
  {
   "cell_type": "code",
   "execution_count": 61,
   "metadata": {
    "collapsed": true
   },
   "outputs": [],
   "source": [
    "dataset = args.dataset\n",
    "if dataset =='cifar':\n",
    "    img_size = 32\n",
    "    pool_len = 4\n",
    "elif dataset == 'stl':\n",
    "    img_size = 96\n",
    "    pool_len = 7\n",
    "    \n",
    "    \n",
    "log_dir = args.log_dir + dataset + '_log/'\n",
    "test_epoch = args.test_epoch\n",
    "if not os.path.isdir(log_dir):\n",
    "    os.makedirs(log_dir)\n",
    "    \n",
    "suffix = dataset + '_batch_0nn_{}'.format(args.batch_size)\n",
    "suffix = suffix + '_temp_{}_km_{}_alr'.format(args.batch_t, args.batch_m)\n",
    "    \n",
    "if len(args.resume)>0:\n",
    "    suffix = suffix + '_r'\n",
    "\n",
    "# log the output\n",
    "test_log_file = open(log_dir + suffix + '.txt', \"w\")                \n",
    "vis_log_dir = log_dir + suffix + '/'\n",
    "if not os.path.isdir(vis_log_dir):\n",
    "    os.makedirs(vis_log_dir)\n",
    "writer = SummaryWriter(vis_log_dir)  "
   ]
  },
  {
   "cell_type": "code",
   "execution_count": 62,
   "metadata": {},
   "outputs": [
    {
     "name": "stdout",
     "output_type": "stream",
     "text": [
      "==> Preparing data..\n",
      "Files already downloaded and verified\n",
      "Files already downloaded and verified\n"
     ]
    }
   ],
   "source": [
    "# Data Preparation\n",
    "print('==> Preparing data..')\n",
    "transform_train = transforms.Compose([\n",
    "    transforms.RandomResizedCrop(size=img_size, scale=(0.2,1.)),\n",
    "    transforms.ColorJitter(0.4, 0.4, 0.4, 0.4),\n",
    "    transforms.RandomGrayscale(p=0.2),\n",
    "    transforms.RandomHorizontalFlip(),\n",
    "    transforms.ToTensor(),\n",
    "    transforms.Normalize((0.4914, 0.4822, 0.4465), (0.2023, 0.1994, 0.2010)),\n",
    "])\n",
    "\n",
    "transform_test = transforms.Compose([\n",
    "    transforms.ToTensor(),\n",
    "    transforms.Normalize((0.4914, 0.4822, 0.4465), (0.2023, 0.1994, 0.2010)),\n",
    "])\n",
    "\n",
    "if dataset =='cifar':\n",
    "    # cifar-10 dataset \n",
    "    trainset = datasets.CIFAR10Instance(root='./data', train=True, download=True, transform=transform_train)\n",
    "    trainloader = torch.utils.data.DataLoader(trainset, \n",
    "        batch_size=args.batch_size, shuffle=True, num_workers=4,drop_last =True)\n",
    "\n",
    "    testset = datasets.CIFAR10Instance(root='./data', train=False, download=True, transform=transform_test)\n",
    "    testloader = torch.utils.data.DataLoader(testset, \n",
    "        batch_size=100, shuffle=False, num_workers=4)\n",
    "elif dataset == 'stl':\n",
    "    # stl-10 dataset \n",
    "    trainset = datasets.STL10Instance(root='./data', split='train+unlabeled', download=True, transform=transform_train)\n",
    "    trainloader = torch.utils.data.DataLoader(trainset, \n",
    "        batch_size=args.batch_size, shuffle=True, num_workers=4,drop_last =True)\n",
    "\n",
    "    valset = datasets.STL10Instance(root='./data', split='train', download=True, transform=transform_test)\n",
    "    valloader = torch.utils.data.DataLoader(valset, \n",
    "        batch_size=100, shuffle=False, num_workers=4,drop_last =True)\n",
    "    \n",
    "    nvdata = valset.__len__()\n",
    "    testset = datasets.STL10Instance(root='./data', split='test', download=True, transform=transform_test)\n",
    "    testloader = torch.utils.data.DataLoader(testset, \n",
    "        batch_size=100, shuffle=False, num_workers=4)\n",
    "\n",
    "ndata = trainset.__len__()"
   ]
  },
  {
   "cell_type": "code",
   "execution_count": 63,
   "metadata": {},
   "outputs": [
    {
     "name": "stdout",
     "output_type": "stream",
     "text": [
      "==> Building model..\n"
     ]
    }
   ],
   "source": [
    "print('==> Building model..')\n",
    "net = models.__dict__['ResNet18'](pool_len = pool_len, low_dim=args.low_dim)\n",
    "\n",
    "# define leminiscate: inner product within each mini-batch (Ours)\n",
    "\n",
    "if device == 'cuda':\n",
    "#     net = torch.nn.DataParallel(net, device_ids=range(torch.cuda.device_count()))\n",
    "    net = torch.nn.DataParallel(net, device_ids=[int(s) for s in args.gpu.split(',')])\n",
    "    cudnn.benchmark = True\n",
    "\n",
    "# define loss function: inner product loss within each mini-batch\n",
    "criterion = BatchCriterion(args.batch_m, args.batch_t, args.batch_size)\n",
    "\n",
    "net.to(device)\n",
    "criterion.to(device)\n",
    "# define optimizer\n",
    "optimizer = optim.SGD(net.parameters(), lr=args.lr, momentum=0.9, weight_decay=5e-4)"
   ]
  },
  {
   "cell_type": "code",
   "execution_count": 64,
   "metadata": {
    "collapsed": true
   },
   "outputs": [],
   "source": [
    "def adjust_learning_rate(optimizer, epoch):\n",
    "    \"\"\"Sets the learning rate to the initial LR decayed at 120, 160 and 200\"\"\"\n",
    "    lr = args.lr\n",
    "    if epoch >= 120 and epoch < 160:\n",
    "        lr = args.lr * 0.1\n",
    "    elif epoch >= 160 and epoch <200:\n",
    "        lr = args.lr * 0.05\n",
    "    elif epoch >= 200:\n",
    "        lr = args.lr * 0.01\n",
    "    for param_group in optimizer.param_groups:\n",
    "        param_group['lr'] = lr   \n",
    "    writer.add_scalar('lr',  lr, epoch)\n",
    "    \n",
    "# Training\n",
    "def train(epoch):\n",
    "    print('\\nEpoch: %d' % epoch)\n",
    "    adjust_learning_rate(optimizer, epoch)\n",
    "    train_loss = AverageMeter()\n",
    "    data_time = AverageMeter()\n",
    "    batch_time = AverageMeter()\n",
    "\n",
    "    # switch to train mode\n",
    "    net.train()\n",
    "\n",
    "    end = time.time()\n",
    "    for batch_idx, (inputs1, inputs2, _, indexes) in enumerate(trainloader):\n",
    "        data_time.update(time.time() - end)\n",
    "\n",
    "        inputs1, inputs2, indexes = inputs1.to(device), inputs2.to(device), indexes.to(device)\n",
    "        \n",
    "        inputs = torch.cat((inputs1,inputs2), 0)\n",
    "        optimizer.zero_grad()\n",
    "\n",
    "        features = net(inputs)\n",
    "        loss = criterion(features, indexes)\n",
    "\n",
    "        loss.backward()\n",
    "        optimizer.step()\n",
    "        \n",
    "        train_loss.update(loss.item(), inputs.size(0))         \n",
    "        \n",
    "        # measure elapsed time\n",
    "        batch_time.update(time.time() - end)\n",
    "        end = time.time()\n",
    "        \n",
    "        if batch_idx%10 ==0:\n",
    "            print('Epoch: [{}][{}/{}] '\n",
    "                  'Time: {batch_time.val:.3f} ({batch_time.avg:.3f}) '\n",
    "                  'Data: {data_time.val:.3f} ({data_time.avg:.3f}) '\n",
    "                  'Loss: {train_loss.val:.4f} ({train_loss.avg:.4f})'.format(\n",
    "                  epoch, batch_idx, len(trainloader), batch_time=batch_time, data_time=data_time, train_loss=train_loss))\n",
    "    # add log\n",
    "    writer.add_scalar('loss',  train_loss.avg, epoch)"
   ]
  },
  {
   "cell_type": "code",
   "execution_count": null,
   "metadata": {},
   "outputs": [],
   "source": [
    "best_acc = 0  # best test accuracy\n",
    "start_epoch = 0  # start from epoch 0 or last checkpoint epoch\n",
    "\n",
    "for epoch in range(start_epoch, start_epoch+301):\n",
    "    \n",
    "    # training \n",
    "    train(epoch)\n",
    "    \n",
    "    # testing every test_epoch\n",
    "    if epoch%test_epoch ==0:\n",
    "        net.eval()\n",
    "        print('----------Evaluation---------')\n",
    "        start = time.time()\n",
    "        \n",
    "        if dataset == 'cifar':\n",
    "            acc = kNN(epoch, net, trainloader, testloader, 200, args.batch_t, ndata, low_dim = args.low_dim)\n",
    "        elif dataset == 'stl':\n",
    "            acc = kNN(epoch, net, valloader, testloader, 200, args.batch_t, nvdata, low_dim = args.low_dim)\n",
    "        \n",
    "        print(\"Evaluation Time: '{}'s\".format(time.time()-start))\n",
    "        writer.add_scalar('nn_acc', acc, epoch)\n",
    "\n",
    "        if acc > best_acc:\n",
    "            print('Saving..')\n",
    "            state = {\n",
    "                'net': net.state_dict(),\n",
    "                'acc': acc,\n",
    "                'epoch': epoch,\n",
    "            }\n",
    "            if not os.path.isdir(args.model_dir):\n",
    "                os.mkdir(args.model_dir)\n",
    "            torch.save(state, args.model_dir + suffix + '_best.t')\n",
    "            best_acc = acc\n",
    "            \n",
    "        print('accuracy: {}% \\t (best acc: {}%)'.format(acc,best_acc))\n",
    "        print('[Epoch]: {}'.format(epoch), file = test_log_file)\n",
    "        print('accuracy: {}% \\t (best acc: {}%)'.format(acc,best_acc), file = test_log_file)\n",
    "        test_log_file.flush()"
   ]
  },
  {
   "cell_type": "code",
   "execution_count": null,
   "metadata": {
    "collapsed": true
   },
   "outputs": [],
   "source": []
  },
  {
   "cell_type": "code",
   "execution_count": null,
   "metadata": {
    "collapsed": true
   },
   "outputs": [],
   "source": []
  },
  {
   "cell_type": "code",
   "execution_count": null,
   "metadata": {
    "collapsed": true
   },
   "outputs": [],
   "source": []
  },
  {
   "cell_type": "code",
   "execution_count": null,
   "metadata": {
    "collapsed": true
   },
   "outputs": [],
   "source": []
  },
  {
   "cell_type": "code",
   "execution_count": null,
   "metadata": {
    "collapsed": true
   },
   "outputs": [],
   "source": []
  },
  {
   "cell_type": "code",
   "execution_count": null,
   "metadata": {
    "collapsed": true
   },
   "outputs": [],
   "source": []
  },
  {
   "cell_type": "code",
   "execution_count": null,
   "metadata": {
    "collapsed": true
   },
   "outputs": [],
   "source": []
  },
  {
   "cell_type": "code",
   "execution_count": null,
   "metadata": {
    "collapsed": true
   },
   "outputs": [],
   "source": []
  },
  {
   "cell_type": "code",
   "execution_count": 7,
   "metadata": {
    "collapsed": true
   },
   "outputs": [],
   "source": [
    "# class Normalize(nn.Module):\n",
    "\n",
    "#     def __init__(self, power=2):\n",
    "#         super(Normalize, self).__init__()\n",
    "#         self.power = power\n",
    "    \n",
    "#     def forward(self, x):\n",
    "#         norm = x.pow(self.power).sum(1, keepdim=True).pow(1./self.power)\n",
    "#         out = x.div(norm)\n",
    "#         return out\n",
    "\n",
    "# class BasicBlock(nn.Module):\n",
    "#     expansion = 1\n",
    "\n",
    "#     def __init__(self, in_planes, planes, stride=1):\n",
    "#         super(BasicBlock, self).__init__()\n",
    "#         self.conv1 = nn.Conv2d(in_planes, planes, kernel_size=3, stride=stride, padding=1, bias=False)\n",
    "#         self.bn1 = nn.BatchNorm2d(planes)\n",
    "#         self.conv2 = nn.Conv2d(planes, planes, kernel_size=3, stride=1, padding=1, bias=False)\n",
    "#         self.bn2 = nn.BatchNorm2d(planes)\n",
    "\n",
    "#         self.shortcut = nn.Sequential()\n",
    "#         if stride != 1 or in_planes != self.expansion*planes:\n",
    "#             self.shortcut = nn.Sequential(\n",
    "#                 nn.Conv2d(in_planes, self.expansion*planes, kernel_size=1, stride=stride, bias=False),\n",
    "#                 nn.BatchNorm2d(self.expansion*planes)\n",
    "#             )\n",
    "\n",
    "#     def forward(self, x):\n",
    "#         out = F.relu(self.bn1(self.conv1(x)))\n",
    "#         out = self.bn2(self.conv2(out))\n",
    "#         out += self.shortcut(x)\n",
    "#         out = F.relu(out)\n",
    "#         return out\n",
    "\n",
    "\n",
    "# class Bottleneck(nn.Module):\n",
    "#     expansion = 4\n",
    "\n",
    "#     def __init__(self, in_planes, planes, stride=1):\n",
    "#         super(Bottleneck, self).__init__()\n",
    "#         self.conv1 = nn.Conv2d(in_planes, planes, kernel_size=1, bias=False)\n",
    "#         self.bn1 = nn.BatchNorm2d(planes)\n",
    "#         self.conv2 = nn.Conv2d(planes, planes, kernel_size=3, stride=stride, padding=1, bias=False)\n",
    "#         self.bn2 = nn.BatchNorm2d(planes)\n",
    "#         self.conv3 = nn.Conv2d(planes, self.expansion*planes, kernel_size=1, bias=False)\n",
    "#         self.bn3 = nn.BatchNorm2d(self.expansion*planes)\n",
    "\n",
    "#         self.shortcut = nn.Sequential()\n",
    "#         if stride != 1 or in_planes != self.expansion*planes:\n",
    "#             self.shortcut = nn.Sequential(\n",
    "#                 nn.Conv2d(in_planes, self.expansion*planes, kernel_size=1, stride=stride, bias=False),\n",
    "#                 nn.BatchNorm2d(self.expansion*planes)\n",
    "#             )\n",
    "\n",
    "#     def forward(self, x):\n",
    "#         out = F.relu(self.bn1(self.conv1(x)))\n",
    "#         out = F.relu(self.bn2(self.conv2(out)))\n",
    "#         out = self.bn3(self.conv3(out))\n",
    "#         out += self.shortcut(x)\n",
    "#         out = F.relu(out)\n",
    "#         return out\n",
    "\n",
    "\n",
    "# class ResNet(nn.Module):\n",
    "#     def __init__(self, block, num_blocks, pool_len =4, low_dim=128):\n",
    "#         super(ResNet, self).__init__()\n",
    "#         self.in_planes = 64\n",
    "\n",
    "#         self.conv1 = nn.Conv2d(3, 64, kernel_size=3, stride=1, padding=1, bias=False)\n",
    "#         self.bn1 = nn.BatchNorm2d(64)\n",
    "#         self.layer1 = self._make_layer(block, 64, num_blocks[0], stride=1)\n",
    "#         self.layer2 = self._make_layer(block, 128, num_blocks[1], stride=2)\n",
    "#         self.layer3 = self._make_layer(block, 256, num_blocks[2], stride=2)\n",
    "#         self.layer4 = self._make_layer(block, 512, num_blocks[3], stride=2)\n",
    "#         self.linear_embedding = nn.Linear(512*block.expansion, low_dim)\n",
    "#         self.linear_class = nn.Linear(512 * block.expansion, 10)\n",
    "#         self.l2norm = Normalize(2)\n",
    "#         self.pool_len = pool_len\n",
    "#         # for m in self.modules():\n",
    "#             # if isinstance(m, nn.Conv2d):\n",
    "#                 # n = m.kernel_size[0] * m.kernel_size[1] * m.out_channels\n",
    "#                 # m.weight.data.normal_(0, math.sqrt(2. / n))\n",
    "#             # elif isinstance(m, nn.BatchNorm2d):\n",
    "#                 # m.weight.data.fill_(1)\n",
    "#                 # m.bias.data.zero_()\n",
    "                \n",
    "\n",
    "#     def _make_layer(self, block, planes, num_blocks, stride):\n",
    "#         strides = [stride] + [1]*(num_blocks-1)\n",
    "#         layers = []\n",
    "#         for stride in strides:\n",
    "#             layers.append(block(self.in_planes, planes, stride))\n",
    "#             self.in_planes = planes * block.expansion\n",
    "#         return nn.Sequential(*layers)\n",
    "\n",
    "#     def forward(self, x):\n",
    "#         out = F.relu(self.bn1(self.conv1(x)))\n",
    "#         out = self.layer1(out)\n",
    "#         out = self.layer2(out)\n",
    "#         out = self.layer3(out)\n",
    "#         out = self.layer4(out)\n",
    "#         out = F.avg_pool2d(out, self.pool_len)\n",
    "#         out = out.view(out.size(0), -1)\n",
    "#         out_embedding = self.linear_embedding(out)\n",
    "#         out_embedding = self.l2norm(out_embedding)\n",
    "#         out_class = self.linear_class(out)\n",
    "#         return out_embedding, out_class\n",
    "\n",
    "\n",
    "# def ResNet18(pool_len = 4, low_dim=128):\n",
    "#     return ResNet(BasicBlock, [2,2,2,2], pool_len, low_dim)"
   ]
  },
  {
   "cell_type": "code",
   "execution_count": null,
   "metadata": {
    "collapsed": true
   },
   "outputs": [],
   "source": []
  }
 ],
 "metadata": {
  "kernelspec": {
   "display_name": "Python [conda env:pytorch]",
   "language": "python",
   "name": "conda-env-pytorch-py"
  },
  "language_info": {
   "codemirror_mode": {
    "name": "ipython",
    "version": 3
   },
   "file_extension": ".py",
   "mimetype": "text/x-python",
   "name": "python",
   "nbconvert_exporter": "python",
   "pygments_lexer": "ipython3",
   "version": "3.6.9"
  }
 },
 "nbformat": 4,
 "nbformat_minor": 2
}